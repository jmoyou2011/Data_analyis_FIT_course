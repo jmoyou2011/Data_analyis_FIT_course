{
 "cells": [
  {
   "cell_type": "markdown",
   "metadata": {},
   "source": [
    "# CSE5311: Numerical Methods for Data Analytics\n",
    "## Homework 1\n",
    "### Linear Algebra Review"
   ]
  },
  {
   "cell_type": "markdown",
   "metadata": {},
   "source": [
    "Import any necessary libraries.  Remember to put in the magic line to get the plots to show up right in the notebook."
   ]
  },
  {
   "cell_type": "code",
   "execution_count": 1,
   "metadata": {},
   "outputs": [],
   "source": [
    "import numpy as np\n",
    "import math\n",
    "import matplotlib.pyplot as plt\n",
    "import matplotlib as mpl\n",
    "from mpl_toolkits.mplot3d import Axes3D\n",
    "%matplotlib inline"
   ]
  },
  {
   "cell_type": "markdown",
   "metadata": {},
   "source": [
    "## Vectors\n",
    "Define the following three vectors as numpy arrays:\n",
    "$u = [2,5,0,4,8]$,\n",
    "$v = [0,-3,2,-1,1]$,\n",
    "$w = [1,-1,0,0,7]$"
   ]
  },
  {
   "cell_type": "code",
   "execution_count": 2,
   "metadata": {},
   "outputs": [
    {
     "name": "stdout",
     "output_type": "stream",
     "text": [
      "The variable u:  [2 5 0 4 8]\n",
      "The variable v:  [ 0 -3  2 -1  1]\n",
      "The variable w:  [ 1 -1  0  0  7]\n"
     ]
    }
   ],
   "source": [
    "# Insert code here\n",
    "\n",
    "# Establish the vectors u, v and w\n",
    "u = np.array([2,5,0,4,8])\n",
    "v = np.array([0,-3,2,-1,1])\n",
    "w = np.array([1,-1,0,0,7])\n",
    "\n",
    "# Throw a test variable to check transpose.\n",
    "# uu = np.array([[2,4],[5,3]])\n",
    "# print(uu)\n",
    "# print(uu.T)\n",
    "\n",
    "# Print the variables\n",
    "print('The variable u: ',u)\n",
    "print('The variable v: ',v)\n",
    "print('The variable w: ',w)"
   ]
  },
  {
   "cell_type": "markdown",
   "metadata": {},
   "source": [
    "Calculate the following: <br>\n",
    "(a) $u^Tv = u \\cdot v$ <br>\n",
    "(b) $(u \\cdot v)w$ <br>\n",
    "(c) $ \\cos(\\theta) = \\frac{u \\cdot v}{\\|u\\| \\|v\\|}$ Note: Have your code calculate the value of $\\theta$ in radians (defalut)"
   ]
  },
  {
   "cell_type": "code",
   "execution_count": 3,
   "metadata": {},
   "outputs": [
    {
     "name": "stdout",
     "output_type": "stream",
     "text": [
      "The value of the dot product of a) u^T . v:  -11\n"
     ]
    }
   ],
   "source": [
    "# Insert code for (a) here\n",
    "# u_tv = u.T * v # element wise\n",
    "u_tv = np.dot(u,v)\n",
    "print(\"The value of the dot product of a) u^T . v: \", u_tv)"
   ]
  },
  {
   "cell_type": "code",
   "execution_count": 4,
   "metadata": {},
   "outputs": [
    {
     "name": "stdout",
     "output_type": "stream",
     "text": [
      "The result of the dot product of b) (u.v)w:  [-11  11   0   0 -77]\n"
     ]
    }
   ],
   "source": [
    "# Insert code for (b) here\n",
    "# From the previous part, one found the value of u^T.v = u.v so therefore (u.v)*w will use the previous section.\n",
    "uvw = u_tv * w\n",
    "print(\"The result of the dot product of b) (u.v)w: \", uvw)"
   ]
  },
  {
   "cell_type": "code",
   "execution_count": 6,
   "metadata": {},
   "outputs": [
    {
     "name": "stdout",
     "output_type": "stream",
     "text": [
      "The angle for c):1.8463093542573732 degrees\n"
     ]
    }
   ],
   "source": [
    "# Insert code for (c) here\n",
    "# Create a variable for the magnitude of u multiplied by the magnitude of v\n",
    "mag_uv = np.linalg.norm(u) * np.linalg.norm(v)\n",
    "theta = math.acos(u_tv * (1/mag_uv))\n",
    "print(\"The angle for c):{} degrees\".format(theta))"
   ]
  },
  {
   "cell_type": "markdown",
   "metadata": {},
   "source": [
    "## Projections\n",
    "Create the projection matrix to project the vector $u=[1,1,1]$ onto the vector $e=[1,0,0]$.  Explicitly print out the projection matrix's size and elements."
   ]
  },
  {
   "cell_type": "code",
   "execution_count": 9,
   "metadata": {
    "scrolled": true
   },
   "outputs": [
    {
     "name": "stdout",
     "output_type": "stream",
     "text": [
      "int32\n",
      "Projection Matrix: \n",
      " [[ 1.  0.  0.]\n",
      " [ 0.  0.  0.]\n",
      " [ 0.  0.  0.]]\n",
      "Size of P:  (3, 3)\n"
     ]
    }
   ],
   "source": [
    "# Insert code to create the projection matrix and print its contents and size.\n",
    "e = np.array([1,0,0])\n",
    "u_1 = np.array([1,1,1])\n",
    "\n",
    "print(u_1[0].dtype)\n",
    "\n",
    "# A problem occurred that e.e^T was not giving me a matrix, so I decided to use the numpy matrix function to fix it.\n",
    "E = np.matrix(e)\n",
    "e_et = E.T*E\n",
    "\n",
    "et_e = np.dot(e.T,e)\n",
    "# The following comments below were for testing.\n",
    "#et_e = E*E.T\n",
    "#print(et_e)\n",
    "#print(e_et)\n",
    "#print(E.T)\n",
    "#print(E)\n",
    "\n",
    "# Equation for Projection matrix, P, is P = (e*e^T)/(e^T*e)\n",
    "# Calculating the Projection matrix, P, and display its dimensions.\n",
    "P = e_et / et_e\n",
    "print('Projection Matrix: \\n', P)\n",
    "print('Size of P: ',P.shape)"
   ]
  },
  {
   "cell_type": "markdown",
   "metadata": {},
   "source": [
    "Now project the same vector $u$ onto the subspace defined by the following two vectors: $e_1=[1,0,0]$ and $e_2=[0,1,0]$.  Create the projection matrix and explicitly print out its size and elements."
   ]
  },
  {
   "cell_type": "code",
   "execution_count": 27,
   "metadata": {},
   "outputs": [
    {
     "name": "stdout",
     "output_type": "stream",
     "text": [
      "P_mat:\n",
      "  [[ 1.  0.  0.]\n",
      " [ 0.  1.  0.]\n",
      " [ 0.  0.  0.]]\n",
      "P_mat shape:  (3, 3)\n",
      "[ 1.  0.  0.]\n",
      "[ 0.  1.  0.]\n"
     ]
    }
   ],
   "source": [
    "# Insert code to create the projection matrix and print its contents and size.\n",
    "e_12 = np.array([[1,0],[0,1],[0,0]])\n",
    "# print(e_12)\n",
    "e_12dot = np.dot(e_12.T,e_12)\n",
    "# print(e_12dot)\n",
    "\n",
    "inv_e12dot = np.linalg.inv(e_12dot)\n",
    "# print(inv_e12dot)\n",
    "inv_e12dot_trans = np.dot(inv_e12dot,e_12.T)\n",
    "#print(inv_e12dot_trans)\n",
    "# The projection matrix, P, is given by X*(X^T*X)^-1*X^T.\n",
    "P_mat = np.dot(e_12,inv_e12dot_trans)\n",
    "print('P_mat:\\n ', P_mat)\n",
    "print('P_mat shape: ',P_mat.shape)\n",
    "# print(inv_e12dot_trans)\n",
    "\n",
    "# The projected matrix is P*b\n",
    "Pb1 = np.dot(P_mat,e_12[:,0])\n",
    "Pb2 = np.dot(P_mat,e_12[:,1])\n",
    "print(Pb1)\n",
    "print(Pb2)\n"
   ]
  },
  {
   "cell_type": "markdown",
   "metadata": {},
   "source": [
    "Using python's visualization capabilities, make a visualization illustrating the projection.  Something like this one:\n",
    "<img src=\"Figures/vectorProj.png\" height=\"180\" width=\"180\">"
   ]
  },
  {
   "cell_type": "code",
   "execution_count": 10,
   "metadata": {},
   "outputs": [
    {
     "data": {
      "image/png": "[encoded data removed]",
      "text/plain": [
       "<matplotlib.figure.Figure at 0x8761ba8>"
      ]
     },
     "metadata": {},
     "output_type": "display_data"
    }
   ],
   "source": [
    "# Insert code for 3D visualization of projection.\n",
    "# The scalar, x, can be represented as (A^T*A)^-1*A^T*b where A = e_12 and b = u.\n",
    "# x = np.dot(inv_e12dot_trans,u)\n",
    "# print(x)\n",
    "# print('u:',u)\n",
    "# Since x is a matrix [1 1]. So the projection onto e1 and e2 would be just be the plane spanned by e1 and e2.\n",
    "\n",
    "# Plot the lines and labeled them\n",
    "fig = plt.figure()\n",
    "ax = fig.add_subplot(2,1,1, projection='3d')\n",
    "fig.suptitle('Projection of u vector', fontsize=20)\n",
    "ax.plot([0,1], [0,1], [0,1],'b', label='u vector')\n",
    "ax.plot([0,1], [0,0], [0,0],'g', label='e_1 vector')\n",
    "ax.plot([0,0], [0,1], [0,0],'g', label='e_2 vector')\n",
    "ax.plot([0,1], [0,0], [0,0],'r', label='projected line')\n",
    "ax.plot([0,0], [0,1], [0,0],'r', label='projected line')\n",
    "\n",
    "\n",
    "# Set the limits of the axes, Name the axes\n",
    "ax.set_xlim3d(0,1)\n",
    "ax.set_ylim3d(0,1)\n",
    "ax.set_zlim3d(0,1)\n",
    "\n",
    "plt.xlabel('xlabel', fontsize=8)\n",
    "plt.ylabel('ylabel', fontsize=8)\n",
    "\n",
    "ax.legend(loc='right')\n",
    "\n",
    "ax.view_init(azim = 95) \n",
    "\n",
    "plt.show()\n",
    "\n"
   ]
  },
  {
   "cell_type": "markdown",
   "metadata": {},
   "source": [
    "## Eigenvalues and Eigenvectors\n",
    "Obtain the eigenvalues and eigenvectors of this matrix:\n",
    "$$A = \\begin{bmatrix}\n",
    "    3    &   2 & 4 \\\\\n",
    "    2    &   0 & 2 \\\\\n",
    "    4    &   2 & 3\n",
    "\\end{bmatrix}$$"
   ]
  },
  {
   "cell_type": "code",
   "execution_count": 13,
   "metadata": {},
   "outputs": [
    {
     "name": "stdout",
     "output_type": "stream",
     "text": [
      "Matrix A:\n",
      " [[3 2 4]\n",
      " [2 0 2]\n",
      " [4 2 3]]\n"
     ]
    }
   ],
   "source": [
    "# Define A and print it.\n",
    "A = np.array([[3,2,4],[2,0,2],[4,2,3]])\n",
    "print('Matrix A:\\n',A)"
   ]
  },
  {
   "cell_type": "code",
   "execution_count": 14,
   "metadata": {},
   "outputs": [
    {
     "name": "stdout",
     "output_type": "stream",
     "text": [
      "Eigenvalues of A:  [-1.  8. -1.]\n",
      "Eigenvectors of A:\n",
      "  [[-0.74535599  0.66666667 -0.20756326]\n",
      " [ 0.2981424   0.33333333 -0.77602137]\n",
      " [ 0.59628479  0.66666667  0.59557394]]\n"
     ]
    }
   ],
   "source": [
    "# Compute eignevectors and eigenvalues.\n",
    "eigVal_A,eigVec_A = np.linalg.eig(A)\n",
    "print('Eigenvalues of A: ',eigVal_A)\n",
    "print('Eigenvectors of A:\\n ',eigVec_A)"
   ]
  },
  {
   "cell_type": "markdown",
   "metadata": {},
   "source": [
    "Provide a brief description on the relationship between $A$ and resulting eigenvectors.  If you make a claim about the eigenvectors, illustrate the property numerically."
   ]
  },
  {
   "cell_type": "markdown",
   "metadata": {},
   "source": [
    "The relationship of a square matrix with its eigenvectors is that a matrix $A$, in this case, can be decomposed into its eigenvalues and eigenvectors. The linear combination of the matrix $A$ and one of its eigenvectors is equal to the linear combination of its eigenvalue and eigenvector."
   ]
  },
  {
   "cell_type": "code",
   "execution_count": 15,
   "metadata": {},
   "outputs": [
    {
     "name": "stdout",
     "output_type": "stream",
     "text": [
      "A*x = lambda * x\n",
      "stp1: [ 5.33333333  2.66666667  5.33333333]\n",
      "stp2: [ 5.33333333  2.66666667  5.33333333]\n"
     ]
    }
   ],
   "source": [
    "# Any supporting code for above question.\n",
    "# Going to prove the relationship for eigenvectors of A is equal to product of eigenvalues and eigenvectors.\n",
    "print('A*x = lambda * x')\n",
    "stp1 = np.dot(A,eigVec_A[:,1])\n",
    "print('stp1:',stp1)\n",
    "stp2 = np.dot(eigVal_A[1],eigVec_A[:,1])\n",
    "print('stp2:',stp2)"
   ]
  },
  {
   "cell_type": "markdown",
   "metadata": {},
   "source": [
    "Create a projection matrix that projects some random data from 2D, i.e. $\\mathbb{R}^2$, to the subspace spanned by the eigenvector associated with largest eigenvalue.  You will need to look up how to create some random points in 2D.  "
   ]
  },
  {
   "cell_type": "code",
   "execution_count": 16,
   "metadata": {},
   "outputs": [
    {
     "name": "stdout",
     "output_type": "stream",
     "text": [
      "data_rand: \n",
      " [[ 0.56893926  0.54379373]\n",
      " [ 0.98601895  0.09117001]\n",
      " [ 0.71110284  0.59710459]]\n"
     ]
    }
   ],
   "source": [
    "# Create random points in 2D.\n",
    "data_rand = np.random.rand(3,2)\n",
    "print('data_rand: \\n',data_rand)"
   ]
  },
  {
   "cell_type": "code",
   "execution_count": 17,
   "metadata": {},
   "outputs": [
    {
     "name": "stdout",
     "output_type": "stream",
     "text": [
      "Largest Eigenvalue: 8.0\n",
      "(1, 3)\n",
      "0.666666666667\n",
      "Eigenvector:  [[ 0.66666667  0.33333333  0.66666667]]\n",
      "e_vecAdotT:  [[ 1.]]\n",
      "Projection Matrix: \n",
      " [[ 0.44444444  0.22222222  0.44444444]\n",
      " [ 0.22222222  0.11111111  0.22222222]\n",
      " [ 0.44444444  0.22222222  0.44444444]]\n",
      "This is the projected data: \n",
      " [[ 0.78802292  0.52732592]\n",
      " [ 0.39401146  0.26366296]\n",
      " [ 0.78802292  0.52732592]]\n"
     ]
    }
   ],
   "source": [
    "# Setup projection matrix and project the data.\n",
    "# print('data_rand: ', data_rand)\n",
    "\n",
    "# Given the eigenvector associated with the largest eigenvalue\n",
    "large_eigenval = max(eigVal_A)\n",
    "print('Largest Eigenvalue:', large_eigenval)\n",
    "\n",
    "# The largest eigenvalue of 8 is associated with the eigenvector in column 2.\n",
    "# Calculate the projection matrix\n",
    "eigenVec_A = np.matrix(eigVec_A[:,1])\n",
    "print(eigenVec_A.shape)\n",
    "print(eigenVec_A[0,0])\n",
    "e_vecAdotT = eigenVec_A*eigenVec_A.T\n",
    "print('Eigenvector: ', eigenVec_A)\n",
    "print('e_vecAdotT: ', e_vecAdotT)\n",
    "\n",
    "Pmatrix = eigenVec_A.T*eigenVec_A/e_vecAdotT\n",
    "print('Projection Matrix: \\n',Pmatrix)\n",
    "\n",
    "# Calculate the projected data.\n",
    "projected_data = Pmatrix*data_rand\n",
    "print('This is the projected data: \\n', projected_data)"
   ]
  },
  {
   "cell_type": "markdown",
   "metadata": {},
   "source": [
    "Now create visualization that shows the original 2D data, the eigenvector, and all the projected data on the eigenvector subspace (i.e. a line)."
   ]
  },
  {
   "cell_type": "code",
   "execution_count": 18,
   "metadata": {
    "scrolled": true
   },
   "outputs": [
    {
     "data": {
      "image/png": "[encoded data removed]",
      "text/plain": [
       "<matplotlib.figure.Figure at 0x8a33518>"
      ]
     },
     "metadata": {},
     "output_type": "display_data"
    }
   ],
   "source": [
    "# Plot visualization.\n",
    "fig1 = plt.figure()\n",
    "ax1 = fig1.gca(projection='3d')\n",
    "\n",
    "fig1.suptitle('Projection on to eigenvector', fontsize=15)\n",
    "\n",
    "ax1.plot([0,eigVec_A[0,0]],[0,eigVec_A[0,1]],[0,eigVec_A[0,2]],'r',label='eigenvector')\n",
    "ax1.plot([0,data_rand[0,0]],[0,data_rand[0,1]],[0,0],'b',label='data_rand')\n",
    "ax1.plot([0,data_rand[1,0]],[0,data_rand[1,1]],[0,0],'b',label='data_rand')\n",
    "ax1.plot([0,data_rand[2,0]],[0,data_rand[2,1]],[0,0],'b',label='data_rand')\n",
    "ax1.plot([0,projected_data[0,0]],[0,data_rand[0,1]],[0,0],'g',label='projected data on data_rand')\n",
    "ax1.plot([0,projected_data[1,0]],[0,data_rand[1,1]],[0,0],'g',label='projected data on data_rand')\n",
    "ax1.plot([0,projected_data[2,0]],[0,data_rand[2,1]],[0,0],'g',label='projected data on data_rand')\n",
    "\n",
    "ax1.set_xlim3d(0,0.8)\n",
    "ax1.set_ylim3d(0,0.8)\n",
    "ax1.set_zlim3d(0,0.8)\n",
    "\n",
    "ax1.legend(loc='right')\n",
    "ax1.view_init(azim = 0)\n",
    "plt.show()\n",
    "\n"
   ]
  },
  {
   "cell_type": "code",
   "execution_count": null,
   "metadata": {},
   "outputs": [],
   "source": []
  }
 ],
 "metadata": {
  "kernelspec": {
   "display_name": "Python 3",
   "language": "python",
   "name": "python3"
  },
  "language_info": {
   "codemirror_mode": {
    "name": "ipython",
    "version": 3
   },
   "file_extension": ".py",
   "mimetype": "text/x-python",
   "name": "python",
   "nbconvert_exporter": "python",
   "pygments_lexer": "ipython3",
   "version": "3.6.3"
  }
 },
 "nbformat": 4,
 "nbformat_minor": 1
}
