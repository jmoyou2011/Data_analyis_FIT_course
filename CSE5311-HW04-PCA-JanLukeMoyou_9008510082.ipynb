{
 "cells": [
  {
   "cell_type": "markdown",
   "metadata": {},
   "source": [
    "# CSE5311: Numerical Methods for Data Analytics\n",
    "## Homework 4\n",
    "### Principal Component Analysis (PCA)"
   ]
  },
  {
   "cell_type": "code",
   "execution_count": 44,
   "metadata": {},
   "outputs": [],
   "source": [
    "# Import any libraries you may need (e.g. pandas, numpy, seaborn, etc.)\n",
    "# <insert code here>\n",
    "import numpy as np\n",
    "import pandas as pd\n",
    "import seaborn as sns\n",
    "import matplotlib.pyplot as plt\n",
    "from operator import itemgetter, attrgetter\n"
   ]
  },
  {
   "cell_type": "code",
   "execution_count": 45,
   "metadata": {},
   "outputs": [],
   "source": [
    "# Scikit learn has a bunch of built in datasets.  Hit 'tab' after 'load' and you will see \n",
    "# the autocomplete list.  Load the breast cancer data set we worked with in class.\n",
    "# <insert code here>\n",
    "from sklearn.datasets import load_breast_cancer\n",
    "cancer = load_breast_cancer()\n"
   ]
  },
  {
   "cell_type": "code",
   "execution_count": 46,
   "metadata": {},
   "outputs": [],
   "source": [
    "# Want to find the best feature reduction that maximizes the variance in the data, i.e. perform PCA.\n",
    "# Store the data in a pandas data frame.\n",
    "# <insert code here>\n",
    "cancer_df = pd.DataFrame(cancer['data'],columns=cancer['feature_names'])"
   ]
  },
  {
   "cell_type": "code",
   "execution_count": 47,
   "metadata": {},
   "outputs": [
    {
     "data": {
      "text/html": [
       "<div>\n",
       "<style scoped>\n",
       "    .dataframe tbody tr th:only-of-type {\n",
       "        vertical-align: middle;\n",
       "    }\n",
       "\n",
       "    .dataframe tbody tr th {\n",
       "        vertical-align: top;\n",
       "    }\n",
       "\n",
       "    .dataframe thead th {\n",
       "        text-align: right;\n",
       "    }\n",
       "</style>\n",
       "<table border=\"1\" class=\"dataframe\">\n",
       "  <thead>\n",
       "    <tr style=\"text-align: right;\">\n",
       "      <th></th>\n",
       "      <th>mean radius</th>\n",
       "      <th>mean texture</th>\n",
       "      <th>mean perimeter</th>\n",
       "      <th>mean area</th>\n",
       "      <th>mean smoothness</th>\n",
       "      <th>mean compactness</th>\n",
       "      <th>mean concavity</th>\n",
       "      <th>mean concave points</th>\n",
       "      <th>mean symmetry</th>\n",
       "      <th>mean fractal dimension</th>\n",
       "      <th>...</th>\n",
       "      <th>worst radius</th>\n",
       "      <th>worst texture</th>\n",
       "      <th>worst perimeter</th>\n",
       "      <th>worst area</th>\n",
       "      <th>worst smoothness</th>\n",
       "      <th>worst compactness</th>\n",
       "      <th>worst concavity</th>\n",
       "      <th>worst concave points</th>\n",
       "      <th>worst symmetry</th>\n",
       "      <th>worst fractal dimension</th>\n",
       "    </tr>\n",
       "  </thead>\n",
       "  <tbody>\n",
       "    <tr>\n",
       "      <th>0</th>\n",
       "      <td>17.99</td>\n",
       "      <td>10.38</td>\n",
       "      <td>122.80</td>\n",
       "      <td>1001.0</td>\n",
       "      <td>0.11840</td>\n",
       "      <td>0.27760</td>\n",
       "      <td>0.3001</td>\n",
       "      <td>0.14710</td>\n",
       "      <td>0.2419</td>\n",
       "      <td>0.07871</td>\n",
       "      <td>...</td>\n",
       "      <td>25.38</td>\n",
       "      <td>17.33</td>\n",
       "      <td>184.60</td>\n",
       "      <td>2019.0</td>\n",
       "      <td>0.1622</td>\n",
       "      <td>0.6656</td>\n",
       "      <td>0.7119</td>\n",
       "      <td>0.2654</td>\n",
       "      <td>0.4601</td>\n",
       "      <td>0.11890</td>\n",
       "    </tr>\n",
       "    <tr>\n",
       "      <th>1</th>\n",
       "      <td>20.57</td>\n",
       "      <td>17.77</td>\n",
       "      <td>132.90</td>\n",
       "      <td>1326.0</td>\n",
       "      <td>0.08474</td>\n",
       "      <td>0.07864</td>\n",
       "      <td>0.0869</td>\n",
       "      <td>0.07017</td>\n",
       "      <td>0.1812</td>\n",
       "      <td>0.05667</td>\n",
       "      <td>...</td>\n",
       "      <td>24.99</td>\n",
       "      <td>23.41</td>\n",
       "      <td>158.80</td>\n",
       "      <td>1956.0</td>\n",
       "      <td>0.1238</td>\n",
       "      <td>0.1866</td>\n",
       "      <td>0.2416</td>\n",
       "      <td>0.1860</td>\n",
       "      <td>0.2750</td>\n",
       "      <td>0.08902</td>\n",
       "    </tr>\n",
       "    <tr>\n",
       "      <th>2</th>\n",
       "      <td>19.69</td>\n",
       "      <td>21.25</td>\n",
       "      <td>130.00</td>\n",
       "      <td>1203.0</td>\n",
       "      <td>0.10960</td>\n",
       "      <td>0.15990</td>\n",
       "      <td>0.1974</td>\n",
       "      <td>0.12790</td>\n",
       "      <td>0.2069</td>\n",
       "      <td>0.05999</td>\n",
       "      <td>...</td>\n",
       "      <td>23.57</td>\n",
       "      <td>25.53</td>\n",
       "      <td>152.50</td>\n",
       "      <td>1709.0</td>\n",
       "      <td>0.1444</td>\n",
       "      <td>0.4245</td>\n",
       "      <td>0.4504</td>\n",
       "      <td>0.2430</td>\n",
       "      <td>0.3613</td>\n",
       "      <td>0.08758</td>\n",
       "    </tr>\n",
       "    <tr>\n",
       "      <th>3</th>\n",
       "      <td>11.42</td>\n",
       "      <td>20.38</td>\n",
       "      <td>77.58</td>\n",
       "      <td>386.1</td>\n",
       "      <td>0.14250</td>\n",
       "      <td>0.28390</td>\n",
       "      <td>0.2414</td>\n",
       "      <td>0.10520</td>\n",
       "      <td>0.2597</td>\n",
       "      <td>0.09744</td>\n",
       "      <td>...</td>\n",
       "      <td>14.91</td>\n",
       "      <td>26.50</td>\n",
       "      <td>98.87</td>\n",
       "      <td>567.7</td>\n",
       "      <td>0.2098</td>\n",
       "      <td>0.8663</td>\n",
       "      <td>0.6869</td>\n",
       "      <td>0.2575</td>\n",
       "      <td>0.6638</td>\n",
       "      <td>0.17300</td>\n",
       "    </tr>\n",
       "    <tr>\n",
       "      <th>4</th>\n",
       "      <td>20.29</td>\n",
       "      <td>14.34</td>\n",
       "      <td>135.10</td>\n",
       "      <td>1297.0</td>\n",
       "      <td>0.10030</td>\n",
       "      <td>0.13280</td>\n",
       "      <td>0.1980</td>\n",
       "      <td>0.10430</td>\n",
       "      <td>0.1809</td>\n",
       "      <td>0.05883</td>\n",
       "      <td>...</td>\n",
       "      <td>22.54</td>\n",
       "      <td>16.67</td>\n",
       "      <td>152.20</td>\n",
       "      <td>1575.0</td>\n",
       "      <td>0.1374</td>\n",
       "      <td>0.2050</td>\n",
       "      <td>0.4000</td>\n",
       "      <td>0.1625</td>\n",
       "      <td>0.2364</td>\n",
       "      <td>0.07678</td>\n",
       "    </tr>\n",
       "  </tbody>\n",
       "</table>\n",
       "<p>5 rows × 30 columns</p>\n",
       "</div>"
      ],
      "text/plain": [
       "   mean radius  mean texture  mean perimeter  mean area  mean smoothness  \\\n",
       "0        17.99         10.38          122.80     1001.0          0.11840   \n",
       "1        20.57         17.77          132.90     1326.0          0.08474   \n",
       "2        19.69         21.25          130.00     1203.0          0.10960   \n",
       "3        11.42         20.38           77.58      386.1          0.14250   \n",
       "4        20.29         14.34          135.10     1297.0          0.10030   \n",
       "\n",
       "   mean compactness  mean concavity  mean concave points  mean symmetry  \\\n",
       "0           0.27760          0.3001              0.14710         0.2419   \n",
       "1           0.07864          0.0869              0.07017         0.1812   \n",
       "2           0.15990          0.1974              0.12790         0.2069   \n",
       "3           0.28390          0.2414              0.10520         0.2597   \n",
       "4           0.13280          0.1980              0.10430         0.1809   \n",
       "\n",
       "   mean fractal dimension           ...             worst radius  \\\n",
       "0                 0.07871           ...                    25.38   \n",
       "1                 0.05667           ...                    24.99   \n",
       "2                 0.05999           ...                    23.57   \n",
       "3                 0.09744           ...                    14.91   \n",
       "4                 0.05883           ...                    22.54   \n",
       "\n",
       "   worst texture  worst perimeter  worst area  worst smoothness  \\\n",
       "0          17.33           184.60      2019.0            0.1622   \n",
       "1          23.41           158.80      1956.0            0.1238   \n",
       "2          25.53           152.50      1709.0            0.1444   \n",
       "3          26.50            98.87       567.7            0.2098   \n",
       "4          16.67           152.20      1575.0            0.1374   \n",
       "\n",
       "   worst compactness  worst concavity  worst concave points  worst symmetry  \\\n",
       "0             0.6656           0.7119                0.2654          0.4601   \n",
       "1             0.1866           0.2416                0.1860          0.2750   \n",
       "2             0.4245           0.4504                0.2430          0.3613   \n",
       "3             0.8663           0.6869                0.2575          0.6638   \n",
       "4             0.2050           0.4000                0.1625          0.2364   \n",
       "\n",
       "   worst fractal dimension  \n",
       "0                  0.11890  \n",
       "1                  0.08902  \n",
       "2                  0.08758  \n",
       "3                  0.17300  \n",
       "4                  0.07678  \n",
       "\n",
       "[5 rows x 30 columns]"
      ]
     },
     "execution_count": 47,
     "metadata": {},
     "output_type": "execute_result"
    }
   ],
   "source": [
    "# Look at a few rows of the data.\n",
    "# <insert code here>\n",
    "cancer_df.head()"
   ]
  },
  {
   "cell_type": "code",
   "execution_count": 48,
   "metadata": {},
   "outputs": [
    {
     "name": "stdout",
     "output_type": "stream",
     "text": [
      "<class 'pandas.core.frame.DataFrame'>\n",
      "RangeIndex: 569 entries, 0 to 568\n",
      "Data columns (total 30 columns):\n",
      "mean radius                569 non-null float64\n",
      "mean texture               569 non-null float64\n",
      "mean perimeter             569 non-null float64\n",
      "mean area                  569 non-null float64\n",
      "mean smoothness            569 non-null float64\n",
      "mean compactness           569 non-null float64\n",
      "mean concavity             569 non-null float64\n",
      "mean concave points        569 non-null float64\n",
      "mean symmetry              569 non-null float64\n",
      "mean fractal dimension     569 non-null float64\n",
      "radius error               569 non-null float64\n",
      "texture error              569 non-null float64\n",
      "perimeter error            569 non-null float64\n",
      "area error                 569 non-null float64\n",
      "smoothness error           569 non-null float64\n",
      "compactness error          569 non-null float64\n",
      "concavity error            569 non-null float64\n",
      "concave points error       569 non-null float64\n",
      "symmetry error             569 non-null float64\n",
      "fractal dimension error    569 non-null float64\n",
      "worst radius               569 non-null float64\n",
      "worst texture              569 non-null float64\n",
      "worst perimeter            569 non-null float64\n",
      "worst area                 569 non-null float64\n",
      "worst smoothness           569 non-null float64\n",
      "worst compactness          569 non-null float64\n",
      "worst concavity            569 non-null float64\n",
      "worst concave points       569 non-null float64\n",
      "worst symmetry             569 non-null float64\n",
      "worst fractal dimension    569 non-null float64\n",
      "dtypes: float64(30)\n",
      "memory usage: 133.4 KB\n"
     ]
    }
   ],
   "source": [
    "# Print out the number of rows (data) and columns (features)\n",
    "cancer_df.info()"
   ]
  },
  {
   "cell_type": "code",
   "execution_count": 49,
   "metadata": {},
   "outputs": [
    {
     "name": "stdout",
     "output_type": "stream",
     "text": [
      "float64\n",
      "(569, 30)\n"
     ]
    }
   ],
   "source": [
    "# Pull the data out of the pandas data frame and assign it to numpy array.\n",
    "# <insert code here>\n",
    "cancer_data = cancer_df.iloc[:,:]\n",
    "cancer_data = cancer_data.values\n",
    "# cancer_data = np.array(cancer_data)\n",
    "print(cancer_data.dtype)\n",
    "print(cancer_data.shape)"
   ]
  },
  {
   "cell_type": "code",
   "execution_count": 50,
   "metadata": {},
   "outputs": [
    {
     "data": {
      "text/html": [
       "<div>\n",
       "<style scoped>\n",
       "    .dataframe tbody tr th:only-of-type {\n",
       "        vertical-align: middle;\n",
       "    }\n",
       "\n",
       "    .dataframe tbody tr th {\n",
       "        vertical-align: top;\n",
       "    }\n",
       "\n",
       "    .dataframe thead th {\n",
       "        text-align: right;\n",
       "    }\n",
       "</style>\n",
       "<table border=\"1\" class=\"dataframe\">\n",
       "  <thead>\n",
       "    <tr style=\"text-align: right;\">\n",
       "      <th></th>\n",
       "      <th>mean radius</th>\n",
       "      <th>mean texture</th>\n",
       "      <th>mean perimeter</th>\n",
       "      <th>mean area</th>\n",
       "      <th>mean smoothness</th>\n",
       "      <th>mean compactness</th>\n",
       "      <th>mean concavity</th>\n",
       "      <th>mean concave points</th>\n",
       "      <th>mean symmetry</th>\n",
       "      <th>mean fractal dimension</th>\n",
       "      <th>...</th>\n",
       "      <th>worst radius</th>\n",
       "      <th>worst texture</th>\n",
       "      <th>worst perimeter</th>\n",
       "      <th>worst area</th>\n",
       "      <th>worst smoothness</th>\n",
       "      <th>worst compactness</th>\n",
       "      <th>worst concavity</th>\n",
       "      <th>worst concave points</th>\n",
       "      <th>worst symmetry</th>\n",
       "      <th>worst fractal dimension</th>\n",
       "    </tr>\n",
       "  </thead>\n",
       "  <tbody>\n",
       "    <tr>\n",
       "      <th>0</th>\n",
       "      <td>0.182815</td>\n",
       "      <td>-0.301307</td>\n",
       "      <td>0.213053</td>\n",
       "      <td>0.146813</td>\n",
       "      <td>0.198968</td>\n",
       "      <td>0.531437</td>\n",
       "      <td>0.495081</td>\n",
       "      <td>0.487976</td>\n",
       "      <td>0.306758</td>\n",
       "      <td>0.335139</td>\n",
       "      <td>...</td>\n",
       "      <td>0.324113</td>\n",
       "      <td>-0.222474</td>\n",
       "      <td>0.385173</td>\n",
       "      <td>0.279792</td>\n",
       "      <td>0.196998</td>\n",
       "      <td>0.399079</td>\n",
       "      <td>0.351207</td>\n",
       "      <td>0.518192</td>\n",
       "      <td>0.335156</td>\n",
       "      <td>0.229268</td>\n",
       "    </tr>\n",
       "    <tr>\n",
       "      <th>1</th>\n",
       "      <td>0.304923</td>\n",
       "      <td>-0.051392</td>\n",
       "      <td>0.282848</td>\n",
       "      <td>0.284671</td>\n",
       "      <td>-0.104905</td>\n",
       "      <td>-0.078833</td>\n",
       "      <td>-0.004450</td>\n",
       "      <td>0.105621</td>\n",
       "      <td>0.000193</td>\n",
       "      <td>-0.129057</td>\n",
       "      <td>...</td>\n",
       "      <td>0.310239</td>\n",
       "      <td>-0.060427</td>\n",
       "      <td>0.256680</td>\n",
       "      <td>0.264308</td>\n",
       "      <td>-0.056585</td>\n",
       "      <td>-0.065649</td>\n",
       "      <td>-0.024432</td>\n",
       "      <td>0.245339</td>\n",
       "      <td>-0.029717</td>\n",
       "      <td>0.033282</td>\n",
       "    </tr>\n",
       "    <tr>\n",
       "      <th>2</th>\n",
       "      <td>0.263274</td>\n",
       "      <td>0.066295</td>\n",
       "      <td>0.262808</td>\n",
       "      <td>0.232497</td>\n",
       "      <td>0.119524</td>\n",
       "      <td>0.170416</td>\n",
       "      <td>0.254453</td>\n",
       "      <td>0.392549</td>\n",
       "      <td>0.129991</td>\n",
       "      <td>-0.059132</td>\n",
       "      <td>...</td>\n",
       "      <td>0.259723</td>\n",
       "      <td>-0.003924</td>\n",
       "      <td>0.225304</td>\n",
       "      <td>0.203602</td>\n",
       "      <td>0.079452</td>\n",
       "      <td>0.165163</td>\n",
       "      <td>0.142341</td>\n",
       "      <td>0.441216</td>\n",
       "      <td>0.140399</td>\n",
       "      <td>0.023837</td>\n",
       "    </tr>\n",
       "    <tr>\n",
       "      <th>3</th>\n",
       "      <td>-0.128132</td>\n",
       "      <td>0.036874</td>\n",
       "      <td>-0.099434</td>\n",
       "      <td>-0.114014</td>\n",
       "      <td>0.416536</td>\n",
       "      <td>0.550761</td>\n",
       "      <td>0.357546</td>\n",
       "      <td>0.279726</td>\n",
       "      <td>0.396657</td>\n",
       "      <td>0.729621</td>\n",
       "      <td>...</td>\n",
       "      <td>-0.048353</td>\n",
       "      <td>0.021929</td>\n",
       "      <td>-0.041791</td>\n",
       "      <td>-0.076898</td>\n",
       "      <td>0.511335</td>\n",
       "      <td>0.593799</td>\n",
       "      <td>0.331239</td>\n",
       "      <td>0.491044</td>\n",
       "      <td>0.736693</td>\n",
       "      <td>0.584115</td>\n",
       "    </tr>\n",
       "    <tr>\n",
       "      <th>4</th>\n",
       "      <td>0.291671</td>\n",
       "      <td>-0.167388</td>\n",
       "      <td>0.298051</td>\n",
       "      <td>0.272369</td>\n",
       "      <td>0.035567</td>\n",
       "      <td>0.087292</td>\n",
       "      <td>0.255859</td>\n",
       "      <td>0.275253</td>\n",
       "      <td>-0.001323</td>\n",
       "      <td>-0.083564</td>\n",
       "      <td>...</td>\n",
       "      <td>0.223081</td>\n",
       "      <td>-0.240065</td>\n",
       "      <td>0.223810</td>\n",
       "      <td>0.170669</td>\n",
       "      <td>0.033226</td>\n",
       "      <td>-0.047797</td>\n",
       "      <td>0.102086</td>\n",
       "      <td>0.164583</td>\n",
       "      <td>-0.105806</td>\n",
       "      <td>-0.047001</td>\n",
       "    </tr>\n",
       "  </tbody>\n",
       "</table>\n",
       "<p>5 rows × 30 columns</p>\n",
       "</div>"
      ],
      "text/plain": [
       "   mean radius  mean texture  mean perimeter  mean area  mean smoothness  \\\n",
       "0     0.182815     -0.301307        0.213053   0.146813         0.198968   \n",
       "1     0.304923     -0.051392        0.282848   0.284671        -0.104905   \n",
       "2     0.263274      0.066295        0.262808   0.232497         0.119524   \n",
       "3    -0.128132      0.036874       -0.099434  -0.114014         0.416536   \n",
       "4     0.291671     -0.167388        0.298051   0.272369         0.035567   \n",
       "\n",
       "   mean compactness  mean concavity  mean concave points  mean symmetry  \\\n",
       "0          0.531437        0.495081             0.487976       0.306758   \n",
       "1         -0.078833       -0.004450             0.105621       0.000193   \n",
       "2          0.170416        0.254453             0.392549       0.129991   \n",
       "3          0.550761        0.357546             0.279726       0.396657   \n",
       "4          0.087292        0.255859             0.275253      -0.001323   \n",
       "\n",
       "   mean fractal dimension           ...             worst radius  \\\n",
       "0                0.335139           ...                 0.324113   \n",
       "1               -0.129057           ...                 0.310239   \n",
       "2               -0.059132           ...                 0.259723   \n",
       "3                0.729621           ...                -0.048353   \n",
       "4               -0.083564           ...                 0.223081   \n",
       "\n",
       "   worst texture  worst perimeter  worst area  worst smoothness  \\\n",
       "0      -0.222474         0.385173    0.279792          0.196998   \n",
       "1      -0.060427         0.256680    0.264308         -0.056585   \n",
       "2      -0.003924         0.225304    0.203602          0.079452   \n",
       "3       0.021929        -0.041791   -0.076898          0.511335   \n",
       "4      -0.240065         0.223810    0.170669          0.033226   \n",
       "\n",
       "   worst compactness  worst concavity  worst concave points  worst symmetry  \\\n",
       "0           0.399079         0.351207              0.518192        0.335156   \n",
       "1          -0.065649        -0.024432              0.245339       -0.029717   \n",
       "2           0.165163         0.142341              0.441216        0.140399   \n",
       "3           0.593799         0.331239              0.491044        0.736693   \n",
       "4          -0.047797         0.102086              0.164583       -0.105806   \n",
       "\n",
       "   worst fractal dimension  \n",
       "0                 0.229268  \n",
       "1                 0.033282  \n",
       "2                 0.023837  \n",
       "3                 0.584115  \n",
       "4                -0.047001  \n",
       "\n",
       "[5 rows x 30 columns]"
      ]
     },
     "execution_count": 50,
     "metadata": {},
     "output_type": "execute_result"
    }
   ],
   "source": [
    "# Normalizing the data set. After normalization, there is no need to mean center the data further.\n",
    "cancer_df_norm = (cancer_df - cancer_df.mean())/(cancer_df.max() - cancer_df.min())\n",
    "cancer_df_norm.head()"
   ]
  },
  {
   "cell_type": "code",
   "execution_count": 51,
   "metadata": {},
   "outputs": [
    {
     "name": "stdout",
     "output_type": "stream",
     "text": [
      "(569, 30)\n"
     ]
    }
   ],
   "source": [
    "# Standardize the dataset using the scikit-learn StandardScaler.   Your data should have zero mean and unit standard devication.\n",
    "# <insert code here>\n",
    "from sklearn.preprocessing import StandardScaler\n",
    "scaler = StandardScaler()\n",
    "scaler.fit(cancer_data)\n",
    "\n",
    "scaled_data_cancer = scaler.transform(cancer_data)\n",
    "print(np.shape(scaled_data_cancer))\n",
    "# Printing of the shape is to keep track of consistency and to avoid errors further down the road.\n",
    "# print(scaled_data_cancer[0:5,0:8])\n",
    "# help(scaler.transform)\n",
    "# print(scaled_data_cancer[0,:])"
   ]
  },
  {
   "cell_type": "code",
   "execution_count": 52,
   "metadata": {},
   "outputs": [
    {
     "name": "stdout",
     "output_type": "stream",
     "text": [
      "(569, 30)\n"
     ]
    }
   ],
   "source": [
    "# Subtract the mean of each column from each row of the data.  You really shouln't need this as the standard scaler would\n",
    "# have take care of this for you.  But, it is good practice to learn how to do this.\n",
    "cancer_data_norm = cancer_df_norm.iloc[:,:]\n",
    "cancer_data_norm = cancer_data_norm.values\n",
    "print(np.shape(cancer_data_norm))\n",
    "\n",
    "\n"
   ]
  },
  {
   "cell_type": "code",
   "execution_count": 53,
   "metadata": {},
   "outputs": [
    {
     "name": "stdout",
     "output_type": "stream",
     "text": [
      "The shape of the covariance matrix done without numpy module method.  (30, 30)\n",
      "The shape of the covariance matrix using numpy module. (30, 30)\n"
     ]
    }
   ],
   "source": [
    "# Form the covariance matrix. Store it in a variable called covMat.\n",
    "# <insert code here>\n",
    "covMat = 1/(30-1) * np.dot(cancer_data_norm.T, cancer_data_norm)\n",
    "print(\"The shape of the covariance matrix done without numpy module method. \",covMat.shape)\n",
    "cov_mat = np.cov(scaled_data_cancer.T)\n",
    "print(\"The shape of the covariance matrix using numpy module.\",np.shape(cov_mat))"
   ]
  },
  {
   "cell_type": "code",
   "execution_count": 54,
   "metadata": {},
   "outputs": [
    {
     "name": "stdout",
     "output_type": "stream",
     "text": [
      "(30, 30)\n",
      "Eigenvalues of the covariance matrix: \n",
      " [1.33049908e+01 5.70137460e+00 2.82291016e+00 1.98412752e+00\n",
      " 1.65163324e+00 1.20948224e+00 6.76408882e-01 4.77456255e-01\n",
      " 4.17628782e-01 3.51310875e-01 2.94433153e-01 2.61621161e-01\n",
      " 2.41782421e-01 1.57286149e-01 9.43006956e-02 8.00034045e-02\n",
      " 5.95036135e-02 5.27114222e-02 4.95647002e-02 1.33279057e-04\n",
      " 7.50121413e-04 1.59213600e-03 6.91261258e-03 8.19203712e-03\n",
      " 1.55085271e-02 1.80867940e-02 2.43836914e-02 2.74877113e-02\n",
      " 3.12142606e-02 3.00256631e-02]\n"
     ]
    }
   ],
   "source": [
    "# Get the eigenvalues and eigenvectors of the covariance matrix and store them two variables.\n",
    "eigVal, eigVec = np.linalg.eig(cov_mat) \n",
    "print(np.shape(eigVec))\n",
    "print(\"Eigenvalues of the covariance matrix: \\n\",eigVal)"
   ]
  },
  {
   "cell_type": "code",
   "execution_count": 55,
   "metadata": {},
   "outputs": [
    {
     "name": "stdout",
     "output_type": "stream",
     "text": [
      "Size of Eigenvalues vector: 30\n",
      "float64\n"
     ]
    }
   ],
   "source": [
    "# Get the total number of eigenvalues.\n",
    "# <insert code here>\n",
    "print(\"Size of Eigenvalues vector:\",len(eigVal))\n",
    "print(eigVal.dtype)"
   ]
  },
  {
   "cell_type": "code",
   "execution_count": 71,
   "metadata": {},
   "outputs": [
    {
     "name": "stdout",
     "output_type": "stream",
     "text": [
      "Checking for the array almost equal to one...\n",
      "\n",
      "The dot product of the eigenvectors are all unit length.\n"
     ]
    }
   ],
   "source": [
    "# Check if all the eigenvectors are unit length.  Hint: use np.testing.assert_array_almost_equal on each of eigenvectors.\n",
    "# <insert code here>\n",
    "\n",
    "dd = np.dot(eigVec.T,eigVec)\n",
    "ones_30 = np.ones(30)\n",
    "print(\"Checking for the array almost equal to one...\\n\")\n",
    "\n",
    "eigvec_unit = []\n",
    "\n",
    "for q in range(0,30):\n",
    "    eigvec_unit.append(dd[q,q])\n",
    "    \n",
    "if np.testing.assert_almost_equal(ones_30, eigvec_unit) == None:\n",
    "    print(\"The dot product of the eigenvectors are all unit length.\")\n",
    "else:\n",
    "    print(\"The eigenvectors are not all unit length.\")\n",
    "        \n",
    "\n",
    "\n",
    "    \n"
   ]
  },
  {
   "cell_type": "code",
   "execution_count": 94,
   "metadata": {},
   "outputs": [
    {
     "name": "stdout",
     "output_type": "stream",
     "text": [
      "EigenValues in Descending order:\n",
      "\n",
      "13.3050\n",
      "5.7014\n",
      "2.8229\n",
      "1.9841\n",
      "1.6516\n",
      "1.2095\n",
      "0.6764\n",
      "0.4775\n",
      "0.4176\n",
      "0.3513\n",
      "0.2944\n",
      "0.2616\n",
      "0.2418\n",
      "0.1573\n",
      "0.0943\n",
      "0.0800\n",
      "0.0595\n",
      "0.0527\n",
      "0.0496\n",
      "0.0312\n",
      "0.0300\n",
      "0.0275\n",
      "0.0244\n",
      "0.0181\n",
      "0.0155\n",
      "0.0082\n",
      "0.0069\n",
      "0.0016\n",
      "0.0008\n",
      "0.0001\n"
     ]
    }
   ],
   "source": [
    "# Make a list of (eigenvalue, eigenvector) tuples.\n",
    "#zip_eig = zip(eigVal, eigVec)\n",
    "list_eig = [[eigVal[i], eigVec[:,i]] for i in range(len(eigVal))]\n",
    "\n",
    "list_eig.sort(reverse=True)\n",
    "\n",
    "# Sort the (eigenvalue, eigenvector) tuples from high to low.\n",
    "#zip_eig_sort = sorted(zip_eig, key=lambda eigvalue: eigvalue[0], reverse=True)\n",
    "#list_eig = list(zip_eig_sort)\n",
    "\n",
    "# Visually confirm that the list is correctly sorted by decreasing eigenvalues, i.e. print out the eigenvalue\n",
    "print(\"EigenValues in Descending order:\\n\")\n",
    "for eig in list_eig:\n",
    "    \n",
    "    print(\"{0:.4f}\".format(eig[0]))\n",
    "\n",
    "\n"
   ]
  },
  {
   "cell_type": "code",
   "execution_count": 91,
   "metadata": {},
   "outputs": [
    {
     "name": "stdout",
     "output_type": "stream",
     "text": [
      "Individual variance of each eigenvalue: 0.4427 \n",
      "Individual variance of each eigenvalue: 0.1897 \n",
      "Individual variance of each eigenvalue: 0.0939 \n",
      "Individual variance of each eigenvalue: 0.0660 \n",
      "Individual variance of each eigenvalue: 0.0550 \n",
      "Individual variance of each eigenvalue: 0.0402 \n",
      "Individual variance of each eigenvalue: 0.0225 \n",
      "Individual variance of each eigenvalue: 0.0159 \n",
      "Individual variance of each eigenvalue: 0.0139 \n",
      "Individual variance of each eigenvalue: 0.0117 \n",
      "Individual variance of each eigenvalue: 0.0098 \n",
      "Individual variance of each eigenvalue: 0.0087 \n",
      "Individual variance of each eigenvalue: 0.0080 \n",
      "Individual variance of each eigenvalue: 0.0052 \n",
      "Individual variance of each eigenvalue: 0.0031 \n",
      "Individual variance of each eigenvalue: 0.0027 \n",
      "Individual variance of each eigenvalue: 0.0020 \n",
      "Individual variance of each eigenvalue: 0.0018 \n",
      "Individual variance of each eigenvalue: 0.0016 \n",
      "Individual variance of each eigenvalue: 0.0000 \n",
      "Individual variance of each eigenvalue: 0.0000 \n",
      "Individual variance of each eigenvalue: 0.0001 \n",
      "Individual variance of each eigenvalue: 0.0002 \n",
      "Individual variance of each eigenvalue: 0.0003 \n",
      "Individual variance of each eigenvalue: 0.0005 \n",
      "Individual variance of each eigenvalue: 0.0006 \n",
      "Individual variance of each eigenvalue: 0.0008 \n",
      "Individual variance of each eigenvalue: 0.0009 \n",
      "Individual variance of each eigenvalue: 0.0010 \n",
      "Individual variance of each eigenvalue: 0.0010 \n",
      "(30,)\n"
     ]
    }
   ],
   "source": [
    "# Calculate the percent variance explained by each eigenvector.  To do this, sum all the eigenvalues and store that number\n",
    "# in a variable.  Then create a new array where each entry is an eigenvalue divided by the total sum of the eigenvalues.\n",
    "# Then call np.cumsum to get the cummaltive sum illustrating how much variance is explained by included one additional\n",
    "# eigenvector in your projection matrix.  Make sure you are using the eigenvalues in sorted (high to low) order.\n",
    "sum_eigVal = sum(eigVal)\n",
    "\n",
    "# Create a variable for individual eigenvalue divided by sum of eigenvalue.\n",
    "individ_eigVal = np.zeros((30)) # This is done for the bar plot to function.\n",
    "\n",
    "for vv in range(0,30):\n",
    "    individ_eigVal[vv] = eigVal[vv]/sum_eigVal\n",
    "    print(\"Individual variance of each eigenvalue: {0:.4f} \".format(individ_eigVal[vv]))    \n",
    "    \n",
    "cumsum_eigVal = np.cumsum(individ_eigVal)\n"
   ]
  },
  {
   "cell_type": "code",
   "execution_count": 92,
   "metadata": {},
   "outputs": [
    {
     "name": "stdout",
     "output_type": "stream",
     "text": [
      "The variance for the first cumulative eigenvalue: 44.2720%\n",
      "The variance for the second cumulative eigenvalue: 63.2432%\n"
     ]
    }
   ],
   "source": [
    "# Print out the variance explained amount in the cumsum array.\n",
    "print(\"The variance for the first cumulative eigenvalue: {0:.4f}%\".format(cumsum_eigVal[0]*100))\n",
    "print(\"The variance for the second cumulative eigenvalue: {0:.4f}%\".format(cumsum_eigVal[1]*100))"
   ]
  },
  {
   "cell_type": "code",
   "execution_count": 84,
   "metadata": {},
   "outputs": [
    {
     "name": "stdout",
     "output_type": "stream",
     "text": [
      "(30, 2)\n",
      "(30, 30)\n"
     ]
    }
   ],
   "source": [
    "# Add projection code here.  Let's reduce the dimensions using the leading two eigenvectors so we\n",
    "# can compare to our results using scikit-learn exercise we finished in class.  So, make a projection matrix\n",
    "# with the leading two eigenvectors as columns.  This will be the U matrix we discussed in class and notes.\n",
    "# After you create the projection matrix, print out its size.  Does it make sense?\n",
    "\n",
    "eig_vec_project1 = list_eig[0][1]\n",
    "eig_vec_project2 = list_eig[1][1]\n",
    "\n",
    "eig_vec_project = np.vstack((eig_vec_project1,eig_vec_project2)).T\n",
    "print(np.shape(eig_vec_project))\n",
    "\n",
    "eigVec_projection = np.dot(eig_vec_project,eig_vec_project.T)\n",
    "print(np.shape(eigVec_projection))"
   ]
  },
  {
   "cell_type": "code",
   "execution_count": 85,
   "metadata": {},
   "outputs": [
    {
     "name": "stdout",
     "output_type": "stream",
     "text": [
      "(30,)\n"
     ]
    },
    {
     "data": {
      "image/png": "[encoded data removed]",
      "text/plain": [
       "<Figure size 432x288 with 1 Axes>"
      ]
     },
     "metadata": {},
     "output_type": "display_data"
    }
   ],
   "source": [
    "\n",
    "plt.style.use('ggplot')\n",
    "bar_width = 0.4 # Setting bar_width for bar plot\n",
    "opacity = 0.3 # Set the opacity of the bar plot \n",
    "\n",
    "xx = np.arange(len(eigVal)) # X-axis\n",
    "print(np.shape(xx))\n",
    "\n",
    "# Bar plot and step plot.\n",
    "plt.bar(xx, individ_eigVal, bar_width, color='blue', label='Individual explained variance', alpha=opacity)\n",
    "plt.step(xx, cumsum_eigVal, color='blue', label='Cumulative explained variance')\n",
    "\n",
    "plt.legend()\n",
    "plt.xlabel('Principal Components')\n",
    "plt.ylabel('Explained Variance Ratio')\n",
    "plt.title('Explained Variance Ratio vs Principal Components.')\n",
    "plt.xticks(xx, xx)\n",
    "\n",
    "plt.tight_layout()\n",
    "plt.show()\n"
   ]
  },
  {
   "cell_type": "code",
   "execution_count": 77,
   "metadata": {},
   "outputs": [
    {
     "name": "stdout",
     "output_type": "stream",
     "text": [
      "(2, 569)\n",
      "(569, 2)\n",
      "[[ 9.19283683  1.94858307]\n",
      " [ 2.3878018  -3.76817174]\n",
      " [ 5.73389628 -1.0751738 ]\n",
      " ...\n",
      " [ 1.25617928 -1.90229671]\n",
      " [10.37479406  1.67201011]\n",
      " [-5.4752433  -0.67063679]]\n"
     ]
    },
    {
     "data": {
      "text/plain": [
       "array(['malignant', 'benign'], dtype='<U9')"
      ]
     },
     "execution_count": 77,
     "metadata": {},
     "output_type": "execute_result"
    }
   ],
   "source": [
    "# Project the data using the projection matrix.  This requires us to take the inner product of \n",
    "# every 30-dim data point with the each of columns in our projection matrix.\n",
    "# Note: usually we would stack the eigenvectors as columns in a matrix, say U.  To project we would\n",
    "# have U'*X' (when X contains data on rows and features as columns) and then we would transpose the\n",
    "# result to get back a matrix with data on rows and features as columns.  So (U'*X')'=X*U.  'dot' \n",
    "# function does matrix multiply or other option is to make it a np.matrix first and then use *.\n",
    "cancer_data_proj = np.dot(eig_vec_project.T,scaled_data_cancer.T)\n",
    "print(np.shape(cancer_data_proj))\n",
    "\n",
    "cancer_data_projection_2D = cancer_data_proj.T\n",
    "print(np.shape(cancer_data_projection_2D))\n",
    "print(cancer_data_projection_2D[:,0:2])\n",
    "cancer['target_names']"
   ]
  },
  {
   "cell_type": "code",
   "execution_count": 78,
   "metadata": {},
   "outputs": [
    {
     "data": {
      "image/png": "[encoded data removed]",
      "text/plain": [
       "<Figure size 432x288 with 1 Axes>"
      ]
     },
     "metadata": {},
     "output_type": "display_data"
    }
   ],
   "source": [
    "# Visualize the projected data.\n",
    "plt.style.use('ggplot')\n",
    "plt.scatter(cancer_data_projection_2D[:,0],cancer_data_projection_2D[:,1],c=cancer['target'],cmap='plasma')\n",
    "plt.xlabel('First Principal Component')\n",
    "plt.ylabel('Second Principal Component')\n",
    "plt.show()"
   ]
  },
  {
   "cell_type": "markdown",
   "metadata": {},
   "source": []
  },
  {
   "cell_type": "code",
   "execution_count": null,
   "metadata": {},
   "outputs": [],
   "source": []
  }
 ],
 "metadata": {
  "kernelspec": {
   "display_name": "Python 3",
   "language": "python",
   "name": "python3"
  },
  "language_info": {
   "codemirror_mode": {
    "name": "ipython",
    "version": 3
   },
   "file_extension": ".py",
   "mimetype": "text/x-python",
   "name": "python",
   "nbconvert_exporter": "python",
   "pygments_lexer": "ipython3",
   "version": "3.6.5"
  }
 },
 "nbformat": 4,
 "nbformat_minor": 1
}
